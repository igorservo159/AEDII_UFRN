{
  "nbformat": 4,
  "nbformat_minor": 0,
  "metadata": {
    "colab": {
      "provenance": []
    },
    "kernelspec": {
      "name": "python3",
      "display_name": "Python 3"
    },
    "language_info": {
      "name": "python"
    }
  },
  "cells": [
    {
      "cell_type": "code",
      "source": [
        "# prompt: using networkx and nxviz, access the .csv on files and create a graph of the medicamentos (nodes) where edges between two nodes will exist if they share the same principio ativo\n",
        "\n",
        "!pip install networkx\n",
        "!pip install nxviz\n",
        "\n",
        "import pandas as pd\n",
        "import networkx as nx\n",
        "import matplotlib.pyplot as plt\n",
        "from nxviz import circos"
      ],
      "metadata": {
        "colab": {
          "base_uri": "https://localhost:8080/"
        },
        "id": "du-1y3ktJlw6",
        "outputId": "f9ca0efb-6b1c-4f9a-8afa-54b12681e0f1",
        "collapsed": true
      },
      "execution_count": 2,
      "outputs": [
        {
          "output_type": "stream",
          "name": "stdout",
          "text": [
            "Requirement already satisfied: networkx in /usr/local/lib/python3.10/dist-packages (3.4)\n",
            "Requirement already satisfied: nxviz in /usr/local/lib/python3.10/dist-packages (0.7.4)\n",
            "Requirement already satisfied: matplotlib>=3.3.3 in /usr/local/lib/python3.10/dist-packages (from nxviz) (3.7.1)\n",
            "Requirement already satisfied: more-itertools>=8.6.0 in /usr/local/lib/python3.10/dist-packages (from nxviz) (10.5.0)\n",
            "Requirement already satisfied: networkx>=2.5 in /usr/local/lib/python3.10/dist-packages (from nxviz) (3.4)\n",
            "Requirement already satisfied: numpy>=1.19.4 in /usr/local/lib/python3.10/dist-packages (from nxviz) (1.26.4)\n",
            "Requirement already satisfied: palettable>=3.3.0 in /usr/local/lib/python3.10/dist-packages (from nxviz) (3.3.3)\n",
            "Requirement already satisfied: pandas>=1.2.0 in /usr/local/lib/python3.10/dist-packages (from nxviz) (2.2.2)\n",
            "Requirement already satisfied: seaborn>=0.11.1 in /usr/local/lib/python3.10/dist-packages (from nxviz) (0.13.2)\n",
            "Requirement already satisfied: contourpy>=1.0.1 in /usr/local/lib/python3.10/dist-packages (from matplotlib>=3.3.3->nxviz) (1.3.0)\n",
            "Requirement already satisfied: cycler>=0.10 in /usr/local/lib/python3.10/dist-packages (from matplotlib>=3.3.3->nxviz) (0.12.1)\n",
            "Requirement already satisfied: fonttools>=4.22.0 in /usr/local/lib/python3.10/dist-packages (from matplotlib>=3.3.3->nxviz) (4.54.1)\n",
            "Requirement already satisfied: kiwisolver>=1.0.1 in /usr/local/lib/python3.10/dist-packages (from matplotlib>=3.3.3->nxviz) (1.4.7)\n",
            "Requirement already satisfied: packaging>=20.0 in /usr/local/lib/python3.10/dist-packages (from matplotlib>=3.3.3->nxviz) (24.1)\n",
            "Requirement already satisfied: pillow>=6.2.0 in /usr/local/lib/python3.10/dist-packages (from matplotlib>=3.3.3->nxviz) (10.4.0)\n",
            "Requirement already satisfied: pyparsing>=2.3.1 in /usr/local/lib/python3.10/dist-packages (from matplotlib>=3.3.3->nxviz) (3.1.4)\n",
            "Requirement already satisfied: python-dateutil>=2.7 in /usr/local/lib/python3.10/dist-packages (from matplotlib>=3.3.3->nxviz) (2.8.2)\n",
            "Requirement already satisfied: pytz>=2020.1 in /usr/local/lib/python3.10/dist-packages (from pandas>=1.2.0->nxviz) (2024.2)\n",
            "Requirement already satisfied: tzdata>=2022.7 in /usr/local/lib/python3.10/dist-packages (from pandas>=1.2.0->nxviz) (2024.2)\n",
            "Requirement already satisfied: six>=1.5 in /usr/local/lib/python3.10/dist-packages (from python-dateutil>=2.7->matplotlib>=3.3.3->nxviz) (1.16.0)\n"
          ]
        },
        {
          "output_type": "stream",
          "name": "stderr",
          "text": [
            "/usr/local/lib/python3.10/dist-packages/nxviz/__init__.py:18: UserWarning: \n",
            "nxviz has a new API! Version 0.7.4 onwards, the old class-based API is being\n",
            "deprecated in favour of a new API focused on advancing a grammar of network\n",
            "graphics. If your plotting code depends on the old API, please consider\n",
            "pinning nxviz at version 0.7.4, as the new API will break your old code.\n",
            "\n",
            "To check out the new API, please head over to the docs at\n",
            "https://ericmjl.github.io/nxviz/ to learn more. We hope you enjoy using it!\n",
            "\n",
            "(This deprecation message will go away in version 1.0.)\n",
            "\n",
            "  warnings.warn(\n"
          ]
        }
      ]
    },
    {
      "cell_type": "code",
      "execution_count": 5,
      "metadata": {
        "colab": {
          "base_uri": "https://localhost:8080/",
          "height": 671
        },
        "id": "SUsjK6A0tNG5",
        "outputId": "5e9ae00a-27b6-4670-c6fe-3958e772fbd3"
      },
      "outputs": [
        {
          "output_type": "stream",
          "name": "stdout",
          "text": [
            "Assortatividade com base na categoria regulatória: 0.36022898461592506\n"
          ]
        },
        {
          "output_type": "display_data",
          "data": {
            "text/plain": [
              "<Figure size 1000x800 with 1 Axes>"
            ],
            "image/png": "[encoded data removed]"
          },
          "metadata": {}
        }
      ],
      "source": [
        "# Ler apenas as colunas necessárias do CSV\n",
        "df = pd.read_csv('medicamentos.csv',\n",
        "                 encoding='Windows-1252',\n",
        "                 delimiter=';',\n",
        "                 usecols=['NOME_PRODUTO', 'CATEGORIA_REGULATORIA', 'PRINCIPIO_ATIVO'])\n",
        "\n",
        "# Filtrar os medicamentos onde PRINCIPIO_ATIVO não é nulo ou vazio\n",
        "df_filtrado = df.dropna(subset=['PRINCIPIO_ATIVO'])\n",
        "\n",
        "# Selecionar 3000 linhas aleatórias\n",
        "# df_amostra = df_filtrado.sample(n=1000, random_state=1)\n",
        "df_amostra = df_filtrado\n",
        "# Criar um grafo vazio\n",
        "graph = nx.Graph()\n",
        "\n",
        "# Criar um dicionário para mapear princípios ativos aos medicamentos\n",
        "principio_ativo_medicamentos = {}\n",
        "\n",
        "# Preencher o dicionário separando os princípios ativos e mapeando para medicamentos\n",
        "for idx, row in df_amostra.iterrows():\n",
        "    principios = [p.strip() for p in row['PRINCIPIO_ATIVO'].split('+')]  # Separar os princípios ativos\n",
        "    medicamento = row['NOME_PRODUTO']\n",
        "    categoria_regulatoria = row['CATEGORIA_REGULATORIA']\n",
        "\n",
        "    # Adicionar nós com atributo de categoria regulatória\n",
        "    graph.add_node(medicamento, categoria=categoria_regulatoria)\n",
        "\n",
        "    for principio in principios:\n",
        "        if principio not in principio_ativo_medicamentos:\n",
        "            principio_ativo_medicamentos[principio] = []\n",
        "        principio_ativo_medicamentos[principio].append(medicamento)\n",
        "\n",
        "# Criar arestas entre medicamentos que compartilham princípios ativos\n",
        "for medicamentos in principio_ativo_medicamentos.values():\n",
        "    if len(medicamentos) > 1:\n",
        "        for i, medicamento1 in enumerate(medicamentos):\n",
        "            for medicamento2 in medicamentos[i + 1:]:\n",
        "                graph.add_edge(medicamento1, medicamento2)\n",
        "\n",
        "# Calcular a assortatividade com base na categoria regulatória\n",
        "assortativity = nx.attribute_assortativity_coefficient(graph, 'categoria')\n",
        "\n",
        "print(f\"Assortatividade com base na categoria regulatória: {assortativity}\")\n",
        "# Desenhar o grafo utilizando o CircosPlot\n",
        "plt.figure(figsize=(10, 8))\n",
        "c = circos(graph)\n",
        "plt.show()\n"
      ]
    }
  ]
}