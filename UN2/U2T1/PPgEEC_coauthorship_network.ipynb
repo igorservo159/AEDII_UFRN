{
  "nbformat": 4,
  "nbformat_minor": 0,
  "metadata": {
    "colab": {
      "provenance": []
    },
    "kernelspec": {
      "name": "python3",
      "display_name": "Python 3"
    },
    "language_info": {
      "name": "python"
    }
  },
  "cells": [
    {
      "cell_type": "markdown",
      "source": [
        "# UFRN Graduate Professors Co-authorship Network\n",
        "\n",
        "This project builds and analyzes a co-authorship network using data from Graduate Program in Eletrical and Computer Engineering (PPgEE) from UFRN. The created graphs will be analyzed based in centrality measurements and core/shell conditions using Gephi to enrich the visualizations of said network.\n",
        "\n",
        "## Centrality Metrics\n",
        "\n",
        "- **Degree Centrality:** Measures the number of direct connections each node (location) has.\n",
        "\n",
        "- **Closeness Centrality:** Calculates the average shortest distance from each node to all other nodes, assessing overall accessibility within the network.\n",
        "\n",
        "- **Betweenness Centrality:** Measures the extent to which a node lies on the shortest paths between other nodes, identifying key intermediaries within the network.\n",
        "\n",
        "- **Eigenvector Centrality:** Assesses the influence of a node based not only on its direct connections but also on the importance of those connections."
      ],
      "metadata": {
        "id": "avMZuLLTQ-PR"
      }
    },
    {
      "cell_type": "markdown",
      "source": [
        "### Import Data"
      ],
      "metadata": {
        "id": "k1skPirhTm2R"
      }
    },
    {
      "cell_type": "code",
      "execution_count": null,
      "metadata": {
        "id": "UsCfFqu7IN57"
      },
      "outputs": [],
      "source": [
        "import networkx as nx\n",
        "\n",
        "graph = nx.read_gexf('network.gexf')\n",
        "\n",
        "for node, data in graph.nodes(data=True):\n",
        "  data[\"id\"] = data[\"complete_name\"]\n",
        "  data[\"label\"] = data[\"complete_name\"]\n",
        "  data.pop(\"complete_name\")"
      ]
    },
    {
      "cell_type": "markdown",
      "source": [
        "\n",
        "### Centrality Measurements\n"
      ],
      "metadata": {
        "id": "wGzODj3JUthD"
      }
    },
    {
      "cell_type": "code",
      "source": [
        "betweenness_centrality = nx.betweenness_centrality(graph)\n",
        "nx.set_node_attributes(graph, betweenness_centrality, 'betweenness_centrality')\n",
        "\n",
        "degree_centrality = nx.degree_centrality(graph)\n",
        "nx.set_node_attributes(graph, degree_centrality, 'degree_centrality')\n",
        "\n",
        "closeness_centrality = nx.closeness_centrality(graph)\n",
        "nx.set_node_attributes(graph, closeness_centrality, 'closeness_centrality')\n",
        "\n",
        "eigenvector_centrality = nx.eigenvector_centrality(graph)\n",
        "nx.set_node_attributes(graph, eigenvector_centrality, 'eigenvector_centrality')"
      ],
      "metadata": {
        "id": "KBQqNI7qUwv8"
      },
      "execution_count": null,
      "outputs": []
    },
    {
      "cell_type": "markdown",
      "source": [
        "### K-core and K-shell\n"
      ],
      "metadata": {
        "id": "5k8t89Gjbhpx"
      }
    },
    {
      "cell_type": "code",
      "source": [
        "graph.remove_edges_from(nx.selfloop_edges(graph))\n",
        "n_cores = sorted(set([v for k, v in nx.core_number(graph).items()]))\n",
        "\n",
        "if len(n_cores) > 1:\n",
        "    k_shell = nx.k_shell(graph, k=n_cores[-2])\n",
        "    k_core = nx.k_core(graph, k=n_cores[-1])\n",
        "else:\n",
        "    raise ValueError(\"A rede possui apenas um nível de k-core.\")\n",
        "\n",
        "nx.set_node_attributes(graph, 0, 'is_core')\n",
        "nx.set_node_attributes(graph, {n: 1 for n in k_core.nodes()}, 'is_core')\n",
        "nx.set_node_attributes(graph, {n: 2 for n in k_shell.nodes()}, 'is_core')\n",
        "\n",
        "print(f\"k-core/k-shell list: {n_cores}\")\n",
        "print(f\"k-shell info for k = {n_cores[-2]}: {k_shell}\")\n",
        "print(f\"k-core info for k = {n_cores[-1]}: {k_core}\")"
      ],
      "metadata": {
        "colab": {
          "base_uri": "https://localhost:8080/"
        },
        "id": "8GD-QfFqbkvU",
        "outputId": "4d7846e4-f7f9-4cac-b9fd-7904eb394c58"
      },
      "execution_count": null,
      "outputs": [
        {
          "output_type": "stream",
          "name": "stdout",
          "text": [
            "k-core/k-shell list: [1, 2, 3, 4, 5, 6, 7, 8, 9, 10, 11, 12, 13, 14, 15, 16, 17, 18]\n",
            "k-shell info for k = 17: Graph with 71 nodes and 593 edges\n",
            "k-core info for k = 18: Graph with 45 nodes and 601 edges\n"
          ]
        }
      ]
    },
    {
      "cell_type": "markdown",
      "source": [
        "### Exporting graph"
      ],
      "metadata": {
        "id": "5-lgD14siKOx"
      }
    },
    {
      "cell_type": "code",
      "source": [
        "nx.write_gexf(graph, 'network_centrality_core.gexf')\n",
        "nx.write_graphml(graph, \"network_centrality_core.graphml\")"
      ],
      "metadata": {
        "id": "mVeN_vnxiJoZ"
      },
      "execution_count": null,
      "outputs": []
    }
  ]
}