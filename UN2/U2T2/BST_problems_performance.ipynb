{
  "nbformat": 4,
  "nbformat_minor": 0,
  "metadata": {
    "colab": {
      "provenance": []
    },
    "kernelspec": {
      "name": "python3",
      "display_name": "Python 3"
    },
    "language_info": {
      "name": "python"
    }
  },
  "cells": [
    {
      "cell_type": "markdown",
      "source": [
        "## Import Dependencies"
      ],
      "metadata": {
        "id": "u6xGuKE9oVEh"
      }
    },
    {
      "cell_type": "code",
      "execution_count": 74,
      "metadata": {
        "colab": {
          "base_uri": "https://localhost:8080/"
        },
        "id": "oJaSsS0NHDZ8",
        "outputId": "7b92b3b4-e4c9-4302-d6ab-757258a20a08"
      },
      "outputs": [
        {
          "output_type": "stream",
          "name": "stdout",
          "text": [
            "Requirement already satisfied: pytest in /usr/local/lib/python3.10/dist-packages (8.3.4)\n",
            "Requirement already satisfied: pytest-sugar in /usr/local/lib/python3.10/dist-packages (1.0.0)\n",
            "Requirement already satisfied: exceptiongroup>=1.0.0rc8 in /usr/local/lib/python3.10/dist-packages (from pytest) (1.2.2)\n",
            "Requirement already satisfied: iniconfig in /usr/local/lib/python3.10/dist-packages (from pytest) (2.0.0)\n",
            "Requirement already satisfied: packaging in /usr/local/lib/python3.10/dist-packages (from pytest) (24.2)\n",
            "Requirement already satisfied: pluggy<2,>=1.5 in /usr/local/lib/python3.10/dist-packages (from pytest) (1.5.0)\n",
            "Requirement already satisfied: tomli>=1 in /usr/local/lib/python3.10/dist-packages (from pytest) (2.2.1)\n",
            "Requirement already satisfied: termcolor>=2.1.0 in /usr/local/lib/python3.10/dist-packages (from pytest-sugar) (2.5.0)\n"
          ]
        }
      ],
      "source": [
        "!pip install pytest pytest-sugar"
      ]
    },
    {
      "cell_type": "code",
      "source": [
        "import plotly.graph_objs as go\n",
        "import numpy as np\n",
        "import matplotlib.pyplot as plt\n",
        "from time import time\n",
        "from scipy.stats import t"
      ],
      "metadata": {
        "id": "AIOSxqVWU_3s"
      },
      "execution_count": 75,
      "outputs": []
    },
    {
      "cell_type": "markdown",
      "source": [
        "## Binary Search Tree (BST) Classes\n",
        "\n",
        "Down below there are some useful classes for creating and managing a Binary Search Tree (BST). The code defines two main classes: `Node`, which represents the individual nodes of the tree, and `BST`, which handles the overall tree structure. It includes methods for adding elements, checking if a value exists, and visualizing the tree using Plotly. This implementation is designed for efficiency and supports recursive operations for tree traversal and management.\n",
        "\n",
        "*The **`%%file`** magic command in Jupyter is used to save the implementation in a separate Python file.*"
      ],
      "metadata": {
        "id": "1PrR2mCyoH_C"
      }
    },
    {
      "cell_type": "code",
      "source": [
        "%%file binarysearchtree.py\n",
        "\n",
        "class Node:\n",
        "  \"\"\"\n",
        "  A class representing a node in a binary search tree.\n",
        "\n",
        "  Attributes:\n",
        "  - value: the value of the node\n",
        "  - left_child: the left child of the node\n",
        "  - right_child: the right child of the node\n",
        "  \"\"\"\n",
        "\n",
        "  def __init__(self, value):\n",
        "      \"\"\"\n",
        "      Initializes a new instance of the Node class.\n",
        "\n",
        "      Args:\n",
        "      - value: the value of the node\n",
        "      \"\"\"\n",
        "      self.value = value\n",
        "      self.left_child = None\n",
        "      self.right_child = None\n",
        "\n",
        "\n",
        "class BST:\n",
        "  \"\"\"\n",
        "  A class representing a binary search tree.\n",
        "\n",
        "  Attributes:\n",
        "  - root: the root node of the tree\n",
        "  \"\"\"\n",
        "\n",
        "  def __init__(self):\n",
        "      \"\"\"\n",
        "      Initializes a new instance of the BST class.\n",
        "      \"\"\"\n",
        "      self.root = None\n",
        "\n",
        "  def add(self, value):\n",
        "      \"\"\"\n",
        "      Adds a new node with the given value to the tree.\n",
        "\n",
        "      Args:\n",
        "      - value: the value of the node to add\n",
        "      \"\"\"\n",
        "      if self.root is None:\n",
        "          # The root does exist yet, create it\n",
        "          self.root = Node(value)\n",
        "      else:\n",
        "          # Find the right place and insert new value\n",
        "          self._add_recursive(self.root, value)\n",
        "\n",
        "  def _add_recursive(self, current_node, value):\n",
        "      \"\"\"\n",
        "      A helper method to recursively traverse the tree and find the correct position to add the new node.\n",
        "\n",
        "      Args:\n",
        "      - current_node: the current node to traverse\n",
        "      - value: the value of the node to add\n",
        "      \"\"\"\n",
        "      if value <= current_node.value:\n",
        "          # Go to the left\n",
        "          if current_node.left_child is None:\n",
        "              current_node.left_child = Node(value)\n",
        "          else:\n",
        "              self._add_recursive(current_node.left_child, value)\n",
        "      else:\n",
        "          # Go to the right\n",
        "          if current_node.right_child is None:\n",
        "              current_node.right_child = Node(value)\n",
        "          else:\n",
        "              self._add_recursive(current_node.right_child, value)\n",
        "\n",
        "  def _contains(self, current_node, value):\n",
        "      \"\"\"\n",
        "      A helper method to recursively traverse the tree and find the node with the given value.\n",
        "\n",
        "      Args:\n",
        "      - current_node: the current node to traverse\n",
        "      - value: the value to search for\n",
        "\n",
        "      Returns:\n",
        "      - True if a node with the given value is found, False otherwise\n",
        "      \"\"\"\n",
        "      if current_node is None:\n",
        "          return False\n",
        "      if current_node.value == value:\n",
        "          return True\n",
        "      if value < current_node.value:\n",
        "          return self._contains(current_node.left_child, value)\n",
        "      return self._contains(current_node.right_child, value)\n",
        "\n",
        "  def contains(self, value):\n",
        "      \"\"\"\n",
        "      Checks whether a node with the given value is present in the tree.\n",
        "\n",
        "      Args:\n",
        "      - value: the value to search for\n",
        "\n",
        "      Returns:\n",
        "      - True if a node with the given value is found, False otherwise\n",
        "      \"\"\"\n",
        "      return self._contains(self.root, value)\n",
        "\n",
        "  def plot(self):\n",
        "      \"\"\"\n",
        "      Plots the binary search tree using Plotly.\n",
        "      \"\"\"\n",
        "      if self.root is None:\n",
        "          print(\"The tree is empty!\")\n",
        "          return\n",
        "\n",
        "      # Initialize lists for coordinates and connections\n",
        "      node_coords = []\n",
        "      lines = []\n",
        "\n",
        "      # Helper function to traverse the tree and fill the coordinate and connection lists\n",
        "      def _plot_recursive(node, x, y, offset):\n",
        "          if node is not None:\n",
        "              node_coords.append((x, y, node.value))\n",
        "              if node.left_child is not None:\n",
        "                  new_x = x - offset\n",
        "                  new_y = y - 1\n",
        "                  lines.append((x, y, new_x, new_y))\n",
        "                  _plot_recursive(node.left_child, new_x, new_y, offset / 2)\n",
        "              if node.right_child is not None:\n",
        "                  new_x = x + offset\n",
        "                  new_y = y - 1\n",
        "                  lines.append((x, y, new_x, new_y))\n",
        "                  _plot_recursive(node.right_child, new_x, new_y, offset / 2)\n",
        "\n",
        "      # Traverse the tree starting from the root node\n",
        "      _plot_recursive(self.root, x=0, y=0, offset=0.5)\n",
        "\n",
        "      # Create a scatter plot for the nodes\n",
        "      node_trace = go.Scatter(x=[x for x, y, _ in node_coords],\n",
        "                              y=[y for _, y, _ in node_coords],\n",
        "                              text=[str(val) for _, _, val in node_coords],\n",
        "                              mode='markers+text',\n",
        "                              textposition='top center',\n",
        "                              marker=dict(symbol='circle',\n",
        "                                          size=20,\n",
        "                                          color='darkblue'))\n",
        "\n",
        "      # Create a scatter plot for the connections between nodes\n",
        "      line_trace = go.Scatter(x=sum([[x1, x2, None] for x1, y1, x2, y2 in lines], []),\n",
        "                              y=sum([[y1, y2, None] for x1, y1, x2, y2 in lines], []),\n",
        "                              mode='lines',\n",
        "                              line=dict(color='black'))\n",
        "\n",
        "      # Combine the two scatter plots\n",
        "      layout = go.Layout(title='',\n",
        "                          xaxis=dict(title='', showgrid=False, zeroline=False, showticklabels=False),\n",
        "                          yaxis=dict(title='', showgrid=False, zeroline=False, showticklabels=False),\n",
        "                          showlegend=False)\n",
        "\n",
        "      fig = go.Figure(data=[node_trace, line_trace], layout=layout)\n",
        "      fig.show()"
      ],
      "metadata": {
        "colab": {
          "base_uri": "https://localhost:8080/"
        },
        "id": "8h_glROCO5Bs",
        "outputId": "31153949-8915-4225-f029-8f42c83ee4dd"
      },
      "execution_count": 76,
      "outputs": [
        {
          "output_type": "stream",
          "name": "stdout",
          "text": [
            "Overwriting binarysearchtree.py\n"
          ]
        }
      ]
    },
    {
      "cell_type": "markdown",
      "source": [
        "## Closest Value\n",
        "\n",
        "The next code provides a function to find the value in a Binary Search Tree (BST) that is closest to a given **target** value. The implementation consists of a helper function, findClosestValueInBstHelper, which recursively explores the tree nodes and updates the closest value based on the absolute difference between the target and the current node's value.\n",
        "\n",
        "The main function, findClosestValue, acts as an entry point, starting the search from the root of the tree. The use of recursion ensures an efficient traversal of the BST.\n"
      ],
      "metadata": {
        "id": "ELK4m-K1ob07"
      }
    },
    {
      "cell_type": "code",
      "source": [
        "%%file closestvalue.py\n",
        "# Example usage:\n",
        "\n",
        "def findClosestValue(tree, target):\n",
        "    return findClosestValueInBstHelper(tree.root, target, tree.root.value)\n",
        "\n",
        "def findClosestValueInBstHelper(node, target, closest):\n",
        "    if node is None:\n",
        "        return closest\n",
        "    if abs(target - closest) > abs(target - node.value):\n",
        "        closest = node.value\n",
        "    if target < node.value:\n",
        "        return findClosestValueInBstHelper(node.left_child, target, closest)\n",
        "    elif target > node.value:\n",
        "        return findClosestValueInBstHelper(node.right_child, target, closest)\n",
        "    else:\n",
        "        return closest\n"
      ],
      "metadata": {
        "colab": {
          "base_uri": "https://localhost:8080/"
        },
        "id": "HIM5rZShPLGT",
        "outputId": "a02455c7-5a6e-40c1-b998-3ceec394a97e"
      },
      "execution_count": 77,
      "outputs": [
        {
          "output_type": "stream",
          "name": "stdout",
          "text": [
            "Overwriting closestvalue.py\n"
          ]
        }
      ]
    },
    {
      "cell_type": "markdown",
      "source": [
        "## Largest Value\n",
        "\n",
        "The following code defines a function to find the **k** *kth largest* value in a Binary Search Tree (BST). The implementation relies on an auxiliary function, `inOrderTraverse`, which performs an in-order traversal of the tree to generate a sorted list of node values.\n",
        "\n",
        "The main function, `findKthLargestValue`, computes the result by accessing the appropriate index from this sorted list. The approach ensures that the values are processed in ascending order, making it easy to identify the desired kth largest element."
      ],
      "metadata": {
        "id": "mrjlaIK4oumz"
      }
    },
    {
      "cell_type": "code",
      "source": [
        "%%file largestvalue.py\n",
        "\n",
        "def findKthLargestValue(tree, k):\n",
        "    sortedNodeValues = []\n",
        "    inOrderTraverse(tree.root,sortedNodeValues)\n",
        "    return sortedNodeValues[len(sortedNodeValues) - k]\n",
        "\n",
        "def inOrderTraverse(node, sortedNodeValues):\n",
        "    if node is None:\n",
        "        return\n",
        "\n",
        "    inOrderTraverse(node.left_child, sortedNodeValues)\n",
        "    sortedNodeValues.append(node.value)\n",
        "    inOrderTraverse(node.right_child, sortedNodeValues)\n"
      ],
      "metadata": {
        "colab": {
          "base_uri": "https://localhost:8080/"
        },
        "id": "EgkbfwsSazIh",
        "outputId": "093c61f6-1818-45b9-e218-6ac81cd3fb9f"
      },
      "execution_count": 78,
      "outputs": [
        {
          "output_type": "stream",
          "name": "stdout",
          "text": [
            "Overwriting largestvalue.py\n"
          ]
        }
      ]
    },
    {
      "cell_type": "markdown",
      "source": [
        "## Algorithm Performance Testing\n",
        "\n",
        "The code evaluates the **performance** of the algorithms `findClosestValue`, which identifies the closest value to a target in a Binary Search Tree (BST), and `findKthLargestValue`, which retrieves the kth largest value from the same tree. The analysis is conducted across a range of input sizes to examine how the algorithms scale with increasing data.\n",
        "\n",
        "To accurately estimate the average execution time for each algorithm, multiple runs (`executions_per_size`) are performed for each input size. Averaging these runs minimizes the impact of random **fluctuations**, such as those caused by system noise or temporary resource constraints.\n",
        "\n",
        "The **confidence intervals** are calculated to quantify the reliability of the measured execution times. These intervals represent the range within which the true average execution time lies with 95% confidence. They are computed using the standard deviation of the times and the Student's t-distribution, with smaller intervals indicating higher measurement reliability.\n",
        "\n",
        "The size of the input vector (`vector_sizes`) is varied to evaluate the impact of input size on execution time. This variation helps in understanding the time **complexity** of the algorithms, offering insights into their efficiency across different data scales.\n"
      ],
      "metadata": {
        "id": "JcbIzlafq7-u"
      }
    },
    {
      "cell_type": "code",
      "source": [
        "from binarysearchtree import *\n",
        "from largestvalue import findKthLargestValue\n",
        "from closestvalue import findClosestValue\n",
        "\n",
        "# Configs\n",
        "np.random.seed(42)\n",
        "N = 100000\n",
        "steps = 10\n",
        "executions_per_size = 100\n",
        "\n",
        "vector_sizes = np.linspace(100, N, steps, dtype=int)\n",
        "\n",
        "# Vectors to data collection\n",
        "results_closest = []\n",
        "results_kth_largest = []\n",
        "confidence_intervals_closest = []\n",
        "confidence_intervals_kth_largest = []\n",
        "\n",
        "# Test the algorithms\n",
        "for size in vector_sizes:\n",
        "    times_closest = []\n",
        "    times_kth_largest = []\n",
        "\n",
        "    # Create test datatest\n",
        "    target = np.random.randint(250, 500)\n",
        "    data = np.random.randint(0, 1000, size)\n",
        "\n",
        "    bst = BST()\n",
        "    for value in data:\n",
        "        bst.add(value)\n",
        "\n",
        "    for _ in range(executions_per_size):\n",
        "        # Measure time for solver_closest\n",
        "        start = time()\n",
        "        findClosestValue(bst, target)\n",
        "        times_closest.append(time() - start)\n",
        "\n",
        "        # Measure time for solver_kth_largest\n",
        "        start = time()\n",
        "        findKthLargestValue(bst, k=5)\n",
        "        times_kth_largest.append(time() - start)\n",
        "\n",
        "    # Calculate the avarage time and confidence interval (95%)\n",
        "    mean_closest = np.mean(times_closest)\n",
        "    mean_kth_largest = np.mean(times_kth_largest)\n",
        "\n",
        "    std_closest = np.std(times_closest, ddof=1)\n",
        "    std_kth_largest = np.std(times_kth_largest, ddof=1)\n",
        "\n",
        "    ci_closest = t.ppf(0.975, executions_per_size-1) * (std_closest / np.sqrt(executions_per_size))\n",
        "    ci_kth_largest = t.ppf(0.975, executions_per_size-1) * (std_kth_largest / np.sqrt(executions_per_size))\n",
        "\n",
        "    results_closest.append(mean_closest)\n",
        "    results_kth_largest.append(mean_kth_largest)\n",
        "\n",
        "    confidence_intervals_closest.append(ci_closest)\n",
        "    confidence_intervals_kth_largest.append(ci_kth_largest)"
      ],
      "metadata": {
        "id": "fA7RVbeDU8Zd"
      },
      "execution_count": 82,
      "outputs": []
    },
    {
      "cell_type": "markdown",
      "source": [
        "### Visualization\n",
        "\n",
        "The results are plotted using error bars to visualize the average execution times alongside their confidence intervals. This allows for a clear comparison of the algorithms' performance and their variability across different input sizes.\n",
        "\n",
        "By combining repeated runs, confidence intervals, and varying input sizes, this approach provides a robust evaluation of algorithm efficiency and scalability."
      ],
      "metadata": {
        "id": "T9xTTpG3Vu-l"
      }
    },
    {
      "cell_type": "code",
      "source": [
        "# Make graphic\n",
        "plt.figure(figsize=(12, 6))\n",
        "plt.errorbar(vector_sizes, results_closest, yerr=confidence_intervals_closest, label='Solver Closest', fmt='-o')\n",
        "plt.errorbar(vector_sizes, results_kth_largest, yerr=confidence_intervals_kth_largest, label='Solver Kth Largest', fmt='-o')\n",
        "plt.xlabel('Vector size')\n",
        "plt.ylabel('Avarage time (s)')\n",
        "plt.title('Algorithms performance')\n",
        "plt.legend()\n",
        "plt.grid(True)\n",
        "plt.show()"
      ],
      "metadata": {
        "colab": {
          "base_uri": "https://localhost:8080/",
          "height": 497
        },
        "id": "OyG-gkCMVxLG",
        "outputId": "9a887f4e-5d9a-4a5d-ceec-2094935fac99"
      },
      "execution_count": 83,
      "outputs": [
        {
          "output_type": "display_data",
          "data": {
            "text/plain": [
              "<Figure size 1200x600 with 1 Axes>"
            ],
            "image/png": "[encoded data removed]"
          },
          "metadata": {}
        }
      ]
    },
    {
      "cell_type": "markdown",
      "source": [
        "#### Observations\n",
        "\n",
        "*  **Solver Closest**  \n",
        "   The execution time of `Solver Closest` remains constant as the input size increases. This behavior suggests that the algorithm operates in **O(1)** time complexity .\n",
        "\n",
        "*  **Solver Kth Largest**  \n",
        "   In contrast, the execution time of `Solver Kth Largest` grows linearly with the input size even with some unexpected values of time which escape the linear behavior due fluctuations. This trend indicates that its time complexity is **O(N)**, likely because the implementation involves traversing the entire BST to identify the kth largest element.\n"
      ],
      "metadata": {
        "id": "KcakPLRbXb2N"
      }
    }
  ]
}